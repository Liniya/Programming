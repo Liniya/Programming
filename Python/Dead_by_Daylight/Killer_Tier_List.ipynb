{
 "cells": [
  {
   "cell_type": "markdown",
   "id": "c8a3488b",
   "metadata": {},
   "source": [
    "The classification performed was mostly based on the video published by **not Otzdarva** in Youtube as of **20/08/2022**. He valued the killers according to 4 criteria which are not explicitly defined by him, namely:\n",
    "* Skill ceiling: potential to snowball (e.g., slugging), control the map/generators, chase potential, etc.\n",
    "* Add-ons: strength of the add-ons on the killer's general performance.\n",
    "* Map dependency: influence of different map layouts in the killer's general performance.\n",
    "* Unhook scenarios: potential to deal with different unhooking scenarios (e.g., several survivors rushing the hook).\n",
    "\n",
    "To each criterion, a score between 1 to 5 was assigned based on **not Otzdarva**'s video, where 1 is the worst (e.g., *Weak*) and 5 is the best (e.g., *Strong*), and 3 is the average. Thus, the scores of 2 and 4 are assigned when **not Otzdarva** is not sure whether to assign as average or weak/strong. From our killer list, we do not have information concerning the Knight, as he was released after this video (**22/11/2022**).\n",
    "\n",
    "It should be noted that Spirit was assigned to rank S and Artist was assigned to rank A initially. **not Otzdarva** assigned both of these to rank A+, which was not considered as a true rank in this exercise."
   ]
  },
  {
   "cell_type": "code",
   "execution_count": 1,
   "id": "927ba6ed",
   "metadata": {},
   "outputs": [],
   "source": [
    "# Modules\n",
    "#*****************************************************************************#\n",
    "import numpy as np\n",
    "import pandas as pd\n",
    "import seaborn as sns\n",
    "from sklearn.model_selection import train_test_split\n",
    "from sklearn.linear_model import LinearRegression\n",
    "from sklearn.linear_model import LogisticRegression\n",
    "from sklearn.svm import SVC\n",
    "from sklearn.ensemble import RandomForestClassifier\n",
    "from sklearn.metrics import accuracy_score\n",
    "from sklearn.metrics import classification_report\n",
    "from sklearn.metrics import confusion_matrix\n",
    "import os\n",
    "import joblib"
   ]
  },
  {
   "cell_type": "code",
   "execution_count": 2,
   "id": "a6db48f6",
   "metadata": {},
   "outputs": [
    {
     "data": {
      "text/html": [
       "<div>\n",
       "<style scoped>\n",
       "    .dataframe tbody tr th:only-of-type {\n",
       "        vertical-align: middle;\n",
       "    }\n",
       "\n",
       "    .dataframe tbody tr th {\n",
       "        vertical-align: top;\n",
       "    }\n",
       "\n",
       "    .dataframe thead th {\n",
       "        text-align: right;\n",
       "    }\n",
       "</style>\n",
       "<table border=\"1\" class=\"dataframe\">\n",
       "  <thead>\n",
       "    <tr style=\"text-align: right;\">\n",
       "      <th></th>\n",
       "      <th>name</th>\n",
       "      <th>classification</th>\n",
       "      <th>skill_ceiling</th>\n",
       "      <th>add_ons</th>\n",
       "      <th>map_dependency</th>\n",
       "      <th>unhook_scenarios</th>\n",
       "      <th>total_raw_score</th>\n",
       "    </tr>\n",
       "  </thead>\n",
       "  <tbody>\n",
       "    <tr>\n",
       "      <th>0</th>\n",
       "      <td>Artist</td>\n",
       "      <td>A</td>\n",
       "      <td>5</td>\n",
       "      <td>3</td>\n",
       "      <td>4</td>\n",
       "      <td>3</td>\n",
       "      <td>15</td>\n",
       "    </tr>\n",
       "    <tr>\n",
       "      <th>1</th>\n",
       "      <td>Blight</td>\n",
       "      <td>S</td>\n",
       "      <td>5</td>\n",
       "      <td>5</td>\n",
       "      <td>5</td>\n",
       "      <td>3</td>\n",
       "      <td>18</td>\n",
       "    </tr>\n",
       "    <tr>\n",
       "      <th>2</th>\n",
       "      <td>Cannibal</td>\n",
       "      <td>B</td>\n",
       "      <td>4</td>\n",
       "      <td>3</td>\n",
       "      <td>3</td>\n",
       "      <td>5</td>\n",
       "      <td>15</td>\n",
       "    </tr>\n",
       "    <tr>\n",
       "      <th>3</th>\n",
       "      <td>Cenobite</td>\n",
       "      <td>B</td>\n",
       "      <td>5</td>\n",
       "      <td>3</td>\n",
       "      <td>3</td>\n",
       "      <td>3</td>\n",
       "      <td>14</td>\n",
       "    </tr>\n",
       "    <tr>\n",
       "      <th>4</th>\n",
       "      <td>Clown</td>\n",
       "      <td>D</td>\n",
       "      <td>4</td>\n",
       "      <td>3</td>\n",
       "      <td>1</td>\n",
       "      <td>3</td>\n",
       "      <td>11</td>\n",
       "    </tr>\n",
       "  </tbody>\n",
       "</table>\n",
       "</div>"
      ],
      "text/plain": [
       "       name classification  skill_ceiling  add_ons  map_dependency  \\\n",
       "0    Artist              A              5        3               4   \n",
       "1    Blight              S              5        5               5   \n",
       "2  Cannibal              B              4        3               3   \n",
       "3  Cenobite              B              5        3               3   \n",
       "4     Clown              D              4        3               1   \n",
       "\n",
       "   unhook_scenarios  total_raw_score  \n",
       "0                 3               15  \n",
       "1                 3               18  \n",
       "2                 5               15  \n",
       "3                 3               14  \n",
       "4                 3               11  "
      ]
     },
     "execution_count": 2,
     "metadata": {},
     "output_type": "execute_result"
    }
   ],
   "source": [
    "# Load Data\n",
    "#*****************************************************************************#\n",
    "df = pd.read_excel('Killer_Tier_List.xlsx')\n",
    "df.head()"
   ]
  },
  {
   "cell_type": "code",
   "execution_count": 3,
   "id": "36c65e56",
   "metadata": {},
   "outputs": [],
   "source": [
    "# Sampling - Due to a low number of observations, no testing sample is created\n",
    "#*****************************************************************************#\n",
    "sample = df\n",
    "x_train = sample[['name','skill_ceiling','add_ons','map_dependency','unhook_scenarios']]\n",
    "x_test = x_train\n",
    "y_train = sample['classification']\n",
    "y_test = y_train\n",
    "x_train = x_train.drop('name', axis = 1, inplace = False) #Remove strings from explanatory variables\n",
    "x_test = x_test.drop('name', axis = 1, inplace = False) #Remove strings from explanatory variables"
   ]
  },
  {
   "cell_type": "code",
   "execution_count": 4,
   "id": "a66cc0ef",
   "metadata": {},
   "outputs": [
    {
     "data": {
      "text/plain": [
       "<AxesSubplot:xlabel='classification', ylabel='total_raw_score'>"
      ]
     },
     "execution_count": 4,
     "metadata": {},
     "output_type": "execute_result"
    },
    {
     "data": {
      "image/png": "[encoded data removed]",
      "text/plain": [
       "<Figure size 432x288 with 1 Axes>"
      ]
     },
     "metadata": {
      "needs_background": "light"
     },
     "output_type": "display_data"
    }
   ],
   "source": [
    "# Evaluate relationship of the total raw score with the final classification\n",
    "#*****************************************************************************#\n",
    "sns.boxplot(data = sample\n",
    "            ,x = 'classification'\n",
    "            ,y = 'total_raw_score'\n",
    "            ,whis = 1.5 #Value multiplied by IQR to define the whiskers\n",
    "            ,color = 'lightblue'\n",
    "            ,saturation = 1\n",
    "            ,flierprops = {'marker': 'x'}\n",
    "            ,order = ['S', 'A', 'B', 'C', 'D'])"
   ]
  },
  {
   "cell_type": "markdown",
   "id": "f98bbc58",
   "metadata": {},
   "source": [
    "From the assessment above, the total raw score (i.e., assining a equal weight to each criteria) clearly is not sufficient for the classification performed by not Otzdarva, as we have several overlaps between classifications and even one outlier within the classification B (as shown below, this is the killer **Nemesis**)."
   ]
  },
  {
   "cell_type": "code",
   "execution_count": 5,
   "id": "52cab286",
   "metadata": {},
   "outputs": [
    {
     "data": {
      "text/html": [
       "<div>\n",
       "<style scoped>\n",
       "    .dataframe tbody tr th:only-of-type {\n",
       "        vertical-align: middle;\n",
       "    }\n",
       "\n",
       "    .dataframe tbody tr th {\n",
       "        vertical-align: top;\n",
       "    }\n",
       "\n",
       "    .dataframe thead th {\n",
       "        text-align: right;\n",
       "    }\n",
       "</style>\n",
       "<table border=\"1\" class=\"dataframe\">\n",
       "  <thead>\n",
       "    <tr style=\"text-align: right;\">\n",
       "      <th></th>\n",
       "      <th>name</th>\n",
       "      <th>classification</th>\n",
       "      <th>skill_ceiling</th>\n",
       "      <th>add_ons</th>\n",
       "      <th>map_dependency</th>\n",
       "      <th>unhook_scenarios</th>\n",
       "      <th>total_raw_score</th>\n",
       "    </tr>\n",
       "  </thead>\n",
       "  <tbody>\n",
       "    <tr>\n",
       "      <th>16</th>\n",
       "      <td>Nemesis</td>\n",
       "      <td>B</td>\n",
       "      <td>5</td>\n",
       "      <td>1</td>\n",
       "      <td>2</td>\n",
       "      <td>3</td>\n",
       "      <td>11</td>\n",
       "    </tr>\n",
       "  </tbody>\n",
       "</table>\n",
       "</div>"
      ],
      "text/plain": [
       "       name classification  skill_ceiling  add_ons  map_dependency  \\\n",
       "16  Nemesis              B              5        1               2   \n",
       "\n",
       "    unhook_scenarios  total_raw_score  \n",
       "16                 3               11  "
      ]
     },
     "execution_count": 5,
     "metadata": {},
     "output_type": "execute_result"
    }
   ],
   "source": [
    "# Outliers\n",
    "#*****************************************************************************#\n",
    "summary_table = sample[sample['classification'] == 'B'].describe().transpose()\n",
    "summary_table.reset_index(inplace = True, drop = False)\n",
    "Q1 = summary_table[summary_table['index'] == 'total_raw_score']['25%']\n",
    "Q3 = summary_table[summary_table['index'] == 'total_raw_score']['75%']\n",
    "IQR = Q3 - Q1\n",
    "Lower_Bound = (Q1 - IQR * 1.5).values[0]\n",
    "outliers = sample[(sample['classification'] == 'B') & (sample['total_raw_score'] < Lower_Bound)]\n",
    "outliers"
   ]
  },
  {
   "cell_type": "code",
   "execution_count": 6,
   "id": "eda7f257",
   "metadata": {},
   "outputs": [
    {
     "data": {
      "text/plain": [
       "0    4\n",
       "1    5\n",
       "2    3\n",
       "3    3\n",
       "4    1\n",
       "Name: classification, dtype: int64"
      ]
     },
     "execution_count": 6,
     "metadata": {},
     "output_type": "execute_result"
    }
   ],
   "source": [
    "# String encoding\n",
    "#*****************************************************************************#\n",
    "classification_mapping = {'S' : 5\n",
    "                          ,'A' : 4\n",
    "                          ,'B' : 3\n",
    "                          ,'C' : 2\n",
    "                          ,'D' : 1\n",
    "                         }\n",
    "y_train = y_train.apply(lambda x: classification_mapping[x])\n",
    "y_train.head()"
   ]
  },
  {
   "cell_type": "markdown",
   "id": "a388bc42",
   "metadata": {},
   "source": [
    "The first model to create to replicate not Otzdarva's assessment will be a multiple linear classification model."
   ]
  },
  {
   "cell_type": "code",
   "execution_count": 7,
   "id": "2a41058d",
   "metadata": {},
   "outputs": [
    {
     "name": "stdout",
     "output_type": "stream",
     "text": [
      "Intercept:\n",
      " -2.1697320665928364 \n",
      " Coefficients:\n",
      " [0.37756151 0.33467621 0.46218898 0.32810177] \n",
      " R^2:\n",
      " 0.7267009620576931\n"
     ]
    }
   ],
   "source": [
    "# Linear Regression\n",
    "#*****************************************************************************#\n",
    "LR = LinearRegression()\n",
    "LR.fit(x_train, y_train)\n",
    "print(\"Intercept:\\n\", LR.intercept_,\"\\n\", \"Coefficients:\\n\", LR.coef_, \"\\n\", \"R^2:\\n\", LR.score(x_train, y_train))"
   ]
  },
  {
   "cell_type": "code",
   "execution_count": 8,
   "id": "cc9d5a84",
   "metadata": {},
   "outputs": [],
   "source": [
    "# Assign classifications\n",
    "#*****************************************************************************#\n",
    "def regression_mapping(prediction):\n",
    "    if prediction <= 1.5:\n",
    "        return 'D'\n",
    "    elif prediction <= 2.5:\n",
    "        return 'C'\n",
    "    elif prediction <= 3.5:\n",
    "        return 'B'\n",
    "    elif prediction <= 4.5:\n",
    "        return 'A'\n",
    "    else:\n",
    "        return 'S'\n",
    "y_pred_LR = LR.predict(x_test)\n",
    "y_pred_LR = pd.Series(y_pred_LR)\n",
    "y_pred_LR = y_pred_LR.apply(lambda x: regression_mapping(x))"
   ]
  },
  {
   "cell_type": "code",
   "execution_count": 9,
   "id": "f2629311",
   "metadata": {},
   "outputs": [
    {
     "name": "stdout",
     "output_type": "stream",
     "text": [
      "Accuracy score:\n",
      "0.5517241379310345\n",
      "\n",
      "Classification report:\n",
      "              precision    recall  f1-score   support\n",
      "\n",
      "           A       0.71      0.62      0.67         8\n",
      "           B       0.60      0.86      0.71         7\n",
      "           C       0.29      0.33      0.31         6\n",
      "           D       0.33      0.20      0.25         5\n",
      "           S       1.00      0.67      0.80         3\n",
      "\n",
      "    accuracy                           0.55        29\n",
      "   macro avg       0.59      0.54      0.55        29\n",
      "weighted avg       0.56      0.55      0.54        29\n",
      "\n",
      "Confusion matrix:\n",
      "[[5 3 0 0 0]\n",
      " [0 6 1 0 0]\n",
      " [1 1 2 2 0]\n",
      " [0 0 4 1 0]\n",
      " [1 0 0 0 2]]\n"
     ]
    }
   ],
   "source": [
    "# Performance\n",
    "#*****************************************************************************#\n",
    "print('Accuracy score:')\n",
    "print(accuracy_score(y_test, y_pred_LR))\n",
    "print('')\n",
    "\n",
    "print('Classification report:')\n",
    "print(classification_report(y_test, y_pred_LR))\n",
    "\n",
    "print('Confusion matrix:')\n",
    "print(confusion_matrix(y_test, y_pred_LR))"
   ]
  },
  {
   "cell_type": "code",
   "execution_count": 10,
   "id": "d07da3f2",
   "metadata": {},
   "outputs": [
    {
     "name": "stdout",
     "output_type": "stream",
     "text": [
      "Intercept:\n",
      " [ 9.483598    5.42354859  0.71857454 -6.37190172 -9.25381941] \n",
      " Coefficients:\n",
      " [[-0.69786852 -0.89619395 -0.90418433 -0.38899097]\n",
      " [-0.58896066  0.37236564 -0.46356212 -0.72369273]\n",
      " [ 0.37230246 -0.56291375 -0.02135424  0.20205922]\n",
      " [ 0.64058983  0.23234462  0.03155549  1.02097   ]\n",
      " [ 0.27393688  0.85439744  1.3575452  -0.11034551]] \n",
      " R^2:\n",
      " 0.7586206896551724\n"
     ]
    }
   ],
   "source": [
    "# Logistic Regression\n",
    "#*****************************************************************************#\n",
    "LogR = LogisticRegression(max_iter = 1000)\n",
    "LogR.fit(x_train, y_train)\n",
    "print(\"Intercept:\\n\", LogR.intercept_,\"\\n\", \"Coefficients:\\n\", LogR.coef_, \"\\n\", \"R^2:\\n\", LogR.score(x_train, y_train))"
   ]
  },
  {
   "cell_type": "code",
   "execution_count": 11,
   "id": "dfe81e39",
   "metadata": {},
   "outputs": [],
   "source": [
    "# Assign classifications\n",
    "#*****************************************************************************#\n",
    "y_pred_LogR = LogR.predict(x_test)\n",
    "y_pred_LogR = pd.Series(y_pred_LogR)\n",
    "y_pred_LogR = y_pred_LogR.apply(lambda x: regression_mapping(x))"
   ]
  },
  {
   "cell_type": "code",
   "execution_count": 12,
   "id": "eb307060",
   "metadata": {},
   "outputs": [
    {
     "name": "stdout",
     "output_type": "stream",
     "text": [
      "Accuracy score:\n",
      "0.7586206896551724\n",
      "\n",
      "Classification report:\n",
      "              precision    recall  f1-score   support\n",
      "\n",
      "           A       0.67      0.75      0.71         8\n",
      "           B       0.67      0.57      0.62         7\n",
      "           C       0.80      0.67      0.73         6\n",
      "           D       0.83      1.00      0.91         5\n",
      "           S       1.00      1.00      1.00         3\n",
      "\n",
      "    accuracy                           0.76        29\n",
      "   macro avg       0.79      0.80      0.79        29\n",
      "weighted avg       0.76      0.76      0.75        29\n",
      "\n",
      "Confusion matrix:\n",
      "[[6 2 0 0 0]\n",
      " [2 4 1 0 0]\n",
      " [1 0 4 1 0]\n",
      " [0 0 0 5 0]\n",
      " [0 0 0 0 3]]\n"
     ]
    }
   ],
   "source": [
    "# Performance\n",
    "#*****************************************************************************#\n",
    "print('Accuracy score:')\n",
    "print(accuracy_score(y_test, y_pred_LogR))\n",
    "print('')\n",
    "\n",
    "print('Classification report:')\n",
    "print(classification_report(y_test, y_pred_LogR))\n",
    "\n",
    "print('Confusion matrix:')\n",
    "print(confusion_matrix(y_test, y_pred_LogR))"
   ]
  },
  {
   "cell_type": "code",
   "execution_count": 13,
   "id": "8bb8ead5",
   "metadata": {},
   "outputs": [
    {
     "name": "stdout",
     "output_type": "stream",
     "text": [
      "Coefficients: \n",
      " [[ 1.05457025e-01 -1.68348266e+00 -6.31224020e-01  2.10120567e-01]\n",
      " [-1.06298531e+00 -1.02387202e-01 -7.95225596e-01 -8.50445967e-01]\n",
      " [-5.00030180e-01 -2.49906596e-01 -4.99933911e-01 -5.00078059e-01]\n",
      " [-6.05197705e-02 -4.69740115e-01 -2.80378437e-01 -4.55480912e-02]\n",
      " [-6.66666667e-01  9.33673626e-01 -8.00055306e-01 -3.99832510e-01]\n",
      " [-8.67259037e-01 -2.40984277e-01 -6.50772410e-01 -1.08441832e+00]\n",
      " [ 1.77635684e-15 -4.99823665e-01 -1.00035267e+00  2.22044605e-16]\n",
      " [-4.54613393e-01 -7.27260722e-01 -2.72958840e-01 -6.36433445e-01]\n",
      " [ 3.51165981e-04 -6.66096022e-01 -6.67303155e-01  0.00000000e+00]\n",
      " [-1.03392775e-01 -4.83036123e-01 -1.24151806e+00  2.06785551e-01]]\n"
     ]
    }
   ],
   "source": [
    "# Support Vector Machines\n",
    "#*****************************************************************************#\n",
    "SVM = SVC(kernel = 'linear')\n",
    "SVM.fit(x_train, y_train)\n",
    "print(\"Coefficients: \\n\", SVM.coef_)"
   ]
  },
  {
   "cell_type": "code",
   "execution_count": 14,
   "id": "0c041e6a",
   "metadata": {},
   "outputs": [],
   "source": [
    "# Assign classifications\n",
    "#*****************************************************************************#\n",
    "y_pred_SVM = SVM.predict(x_test)\n",
    "y_pred_SVM = pd.Series(y_pred_SVM)\n",
    "y_pred_SVM = y_pred_SVM.apply(lambda x: regression_mapping(x))"
   ]
  },
  {
   "cell_type": "code",
   "execution_count": 15,
   "id": "e2a7fddd",
   "metadata": {},
   "outputs": [
    {
     "name": "stdout",
     "output_type": "stream",
     "text": [
      "Accuracy score:\n",
      "0.7241379310344828\n",
      "\n",
      "Classification report:\n",
      "              precision    recall  f1-score   support\n",
      "\n",
      "           A       0.71      0.62      0.67         8\n",
      "           B       0.56      0.71      0.63         7\n",
      "           C       0.75      0.50      0.60         6\n",
      "           D       0.83      1.00      0.91         5\n",
      "           S       1.00      1.00      1.00         3\n",
      "\n",
      "    accuracy                           0.72        29\n",
      "   macro avg       0.77      0.77      0.76        29\n",
      "weighted avg       0.73      0.72      0.72        29\n",
      "\n",
      "Confusion matrix:\n",
      "[[5 3 0 0 0]\n",
      " [1 5 1 0 0]\n",
      " [1 1 3 1 0]\n",
      " [0 0 0 5 0]\n",
      " [0 0 0 0 3]]\n"
     ]
    }
   ],
   "source": [
    "# Performance\n",
    "#*****************************************************************************#\n",
    "print('Accuracy score:')\n",
    "print(accuracy_score(y_test, y_pred_SVM))\n",
    "print('')\n",
    "\n",
    "print('Classification report:')\n",
    "print(classification_report(y_test, y_pred_SVM))\n",
    "\n",
    "print('Confusion matrix:')\n",
    "print(confusion_matrix(y_test, y_pred_SVM))"
   ]
  },
  {
   "cell_type": "code",
   "execution_count": 16,
   "id": "ca55f8c0",
   "metadata": {},
   "outputs": [
    {
     "data": {
      "text/html": [
       "<style>#sk-container-id-1 {color: black;background-color: white;}#sk-container-id-1 pre{padding: 0;}#sk-container-id-1 div.sk-toggleable {background-color: white;}#sk-container-id-1 label.sk-toggleable__label {cursor: pointer;display: block;width: 100%;margin-bottom: 0;padding: 0.3em;box-sizing: border-box;text-align: center;}#sk-container-id-1 label.sk-toggleable__label-arrow:before {content: \"▸\";float: left;margin-right: 0.25em;color: #696969;}#sk-container-id-1 label.sk-toggleable__label-arrow:hover:before {color: black;}#sk-container-id-1 div.sk-estimator:hover label.sk-toggleable__label-arrow:before {color: black;}#sk-container-id-1 div.sk-toggleable__content {max-height: 0;max-width: 0;overflow: hidden;text-align: left;background-color: #f0f8ff;}#sk-container-id-1 div.sk-toggleable__content pre {margin: 0.2em;color: black;border-radius: 0.25em;background-color: #f0f8ff;}#sk-container-id-1 input.sk-toggleable__control:checked~div.sk-toggleable__content {max-height: 200px;max-width: 100%;overflow: auto;}#sk-container-id-1 input.sk-toggleable__control:checked~label.sk-toggleable__label-arrow:before {content: \"▾\";}#sk-container-id-1 div.sk-estimator input.sk-toggleable__control:checked~label.sk-toggleable__label {background-color: #d4ebff;}#sk-container-id-1 div.sk-label input.sk-toggleable__control:checked~label.sk-toggleable__label {background-color: #d4ebff;}#sk-container-id-1 input.sk-hidden--visually {border: 0;clip: rect(1px 1px 1px 1px);clip: rect(1px, 1px, 1px, 1px);height: 1px;margin: -1px;overflow: hidden;padding: 0;position: absolute;width: 1px;}#sk-container-id-1 div.sk-estimator {font-family: monospace;background-color: #f0f8ff;border: 1px dotted black;border-radius: 0.25em;box-sizing: border-box;margin-bottom: 0.5em;}#sk-container-id-1 div.sk-estimator:hover {background-color: #d4ebff;}#sk-container-id-1 div.sk-parallel-item::after {content: \"\";width: 100%;border-bottom: 1px solid gray;flex-grow: 1;}#sk-container-id-1 div.sk-label:hover label.sk-toggleable__label {background-color: #d4ebff;}#sk-container-id-1 div.sk-serial::before {content: \"\";position: absolute;border-left: 1px solid gray;box-sizing: border-box;top: 0;bottom: 0;left: 50%;z-index: 0;}#sk-container-id-1 div.sk-serial {display: flex;flex-direction: column;align-items: center;background-color: white;padding-right: 0.2em;padding-left: 0.2em;position: relative;}#sk-container-id-1 div.sk-item {position: relative;z-index: 1;}#sk-container-id-1 div.sk-parallel {display: flex;align-items: stretch;justify-content: center;background-color: white;position: relative;}#sk-container-id-1 div.sk-item::before, #sk-container-id-1 div.sk-parallel-item::before {content: \"\";position: absolute;border-left: 1px solid gray;box-sizing: border-box;top: 0;bottom: 0;left: 50%;z-index: -1;}#sk-container-id-1 div.sk-parallel-item {display: flex;flex-direction: column;z-index: 1;position: relative;background-color: white;}#sk-container-id-1 div.sk-parallel-item:first-child::after {align-self: flex-end;width: 50%;}#sk-container-id-1 div.sk-parallel-item:last-child::after {align-self: flex-start;width: 50%;}#sk-container-id-1 div.sk-parallel-item:only-child::after {width: 0;}#sk-container-id-1 div.sk-dashed-wrapped {border: 1px dashed gray;margin: 0 0.4em 0.5em 0.4em;box-sizing: border-box;padding-bottom: 0.4em;background-color: white;}#sk-container-id-1 div.sk-label label {font-family: monospace;font-weight: bold;display: inline-block;line-height: 1.2em;}#sk-container-id-1 div.sk-label-container {text-align: center;}#sk-container-id-1 div.sk-container {/* jupyter's `normalize.less` sets `[hidden] { display: none; }` but bootstrap.min.css set `[hidden] { display: none !important; }` so we also need the `!important` here to be able to override the default hidden behavior on the sphinx rendered scikit-learn.org. See: https://github.com/scikit-learn/scikit-learn/issues/21755 */display: inline-block !important;position: relative;}#sk-container-id-1 div.sk-text-repr-fallback {display: none;}</style><div id=\"sk-container-id-1\" class=\"sk-top-container\"><div class=\"sk-text-repr-fallback\"><pre>RandomForestClassifier()</pre><b>In a Jupyter environment, please rerun this cell to show the HTML representation or trust the notebook. <br />On GitHub, the HTML representation is unable to render, please try loading this page with nbviewer.org.</b></div><div class=\"sk-container\" hidden><div class=\"sk-item\"><div class=\"sk-estimator sk-toggleable\"><input class=\"sk-toggleable__control sk-hidden--visually\" id=\"sk-estimator-id-1\" type=\"checkbox\" checked><label for=\"sk-estimator-id-1\" class=\"sk-toggleable__label sk-toggleable__label-arrow\">RandomForestClassifier</label><div class=\"sk-toggleable__content\"><pre>RandomForestClassifier()</pre></div></div></div></div></div>"
      ],
      "text/plain": [
       "RandomForestClassifier()"
      ]
     },
     "execution_count": 16,
     "metadata": {},
     "output_type": "execute_result"
    }
   ],
   "source": [
    "# Random Forest\n",
    "#*****************************************************************************#\n",
    "RF = RandomForestClassifier()\n",
    "RF.fit(x_train, y_train)"
   ]
  },
  {
   "cell_type": "code",
   "execution_count": 17,
   "id": "a5304ded",
   "metadata": {},
   "outputs": [],
   "source": [
    "# Assign classifications\n",
    "#*****************************************************************************#\n",
    "y_pred_RF = RF.predict(x_test)\n",
    "y_pred_RF = pd.Series(y_pred_RF)\n",
    "y_pred_RF = y_pred_RF.apply(lambda x: regression_mapping(x))"
   ]
  },
  {
   "cell_type": "code",
   "execution_count": 18,
   "id": "d1ef18e4",
   "metadata": {},
   "outputs": [
    {
     "name": "stdout",
     "output_type": "stream",
     "text": [
      "Accuracy score:\n",
      "0.9310344827586207\n",
      "\n",
      "Classification report:\n",
      "              precision    recall  f1-score   support\n",
      "\n",
      "           A       0.88      0.88      0.88         8\n",
      "           B       0.86      0.86      0.86         7\n",
      "           C       1.00      1.00      1.00         6\n",
      "           D       1.00      1.00      1.00         5\n",
      "           S       1.00      1.00      1.00         3\n",
      "\n",
      "    accuracy                           0.93        29\n",
      "   macro avg       0.95      0.95      0.95        29\n",
      "weighted avg       0.93      0.93      0.93        29\n",
      "\n",
      "Confusion matrix:\n",
      "[[7 1 0 0 0]\n",
      " [1 6 0 0 0]\n",
      " [0 0 6 0 0]\n",
      " [0 0 0 5 0]\n",
      " [0 0 0 0 3]]\n"
     ]
    }
   ],
   "source": [
    "# Performance\n",
    "#*****************************************************************************#\n",
    "print('Accuracy score:')\n",
    "print(accuracy_score(y_test, y_pred_RF))\n",
    "print('')\n",
    "\n",
    "print('Classification report:')\n",
    "print(classification_report(y_test, y_pred_RF))\n",
    "\n",
    "print('Confusion matrix:')\n",
    "print(confusion_matrix(y_test, y_pred_RF))"
   ]
  },
  {
   "cell_type": "code",
   "execution_count": 19,
   "id": "91fc05b5",
   "metadata": {},
   "outputs": [
    {
     "name": "stdout",
     "output_type": "stream",
     "text": [
      "         Name Observed Predicted  ind_mismatch\n",
      "12  Hillbilly        B         A             1\n",
      "19        Oni        A         B             1\n"
     ]
    }
   ],
   "source": [
    "observed_values = pd.DataFrame(y_test)\n",
    "observed_values.columns = ['Observed']\n",
    "predicted_values = pd.DataFrame(y_pred_RF, columns = ['Predicted'])\n",
    "names = pd.DataFrame(sample['name'])\n",
    "names.reset_index(inplace = True, drop = True)\n",
    "names.columns = ['Name']\n",
    "mismatches = pd.concat([names, observed_values, predicted_values], axis = 1)\n",
    "mismatches['ind_mismatch'] = mismatches.apply(lambda x: 1 if x.Observed != x.Predicted else 0\n",
    "                                              ,axis = 1)\n",
    "print(mismatches[mismatches['ind_mismatch'] == 1])"
   ]
  },
  {
   "cell_type": "markdown",
   "id": "3c40b029",
   "metadata": {},
   "source": [
    "With a Random Forest Classifier, we are able to assign a classification to any killer in line with **not Otzdarva**'s own assessment in a very reliable manner. The main differences were the assignment of Hillbilly to rank B (instead of A) and Oni to rank A (instead of B)."
   ]
  },
  {
   "cell_type": "markdown",
   "id": "594b08a8",
   "metadata": {},
   "source": [
    "What about the Knight? What rank would **not Otzdarva** give to him? Considering his review video as of **01/11/2022** from the PTB and some subsequent discussions (**23/11/2022**), the following scores should be assigned:\n",
    "* Skill ceiling: 3\n",
    "* Add-ons: 4\n",
    "* Map dependency: 3\n",
    "* Unhook scenarios: 3"
   ]
  },
  {
   "cell_type": "code",
   "execution_count": 20,
   "id": "358ac9a8",
   "metadata": {},
   "outputs": [
    {
     "name": "stdout",
     "output_type": "stream",
     "text": [
      "Expected rank:\n",
      " B\n"
     ]
    }
   ],
   "source": [
    "Values = pd.DataFrame(data = [3, 4, 3, 3]).transpose()\n",
    "Values.columns = ['skill_ceiling','add_ons','map_dependency','unhook_scenarios']\n",
    "Knight = RF.predict(Values)[0]\n",
    "KnightRank = regression_mapping(Knight)\n",
    "print(\"Expected rank:\\n\", KnightRank)"
   ]
  },
  {
   "cell_type": "markdown",
   "id": "de2a5648",
   "metadata": {},
   "source": [
    "Thus, it is expected that, in his next killer tier list, the Knight is ranked as **B**, assuming that there are no relevant changes and that his scores are in line with the ones provided above."
   ]
  },
  {
   "cell_type": "markdown",
   "id": "0f1e724f",
   "metadata": {},
   "source": [
    "The following will save the model's parameters, which can be later loaded by running the following:\n",
    "*loaded_rf = joblib.load(\"./killer_rank_model.joblib\")*"
   ]
  },
  {
   "cell_type": "code",
   "execution_count": 21,
   "id": "c2d93706",
   "metadata": {},
   "outputs": [
    {
     "name": "stdout",
     "output_type": "stream",
     "text": [
      "Size of data exported: 0.03 MB.\n"
     ]
    }
   ],
   "source": [
    "joblib.dump(RF, \"./killer_rank_model.joblib\", compress = 3)\n",
    "print(f\"Size of data exported: {np.round(os.path.getsize('killer_rank_model.joblib') / 1024 / 1024, 2)} MB.\")"
   ]
  }
 ],
 "metadata": {
  "kernelspec": {
   "display_name": "Python 3 (ipykernel)",
   "language": "python",
   "name": "python3"
  },
  "language_info": {
   "codemirror_mode": {
    "name": "ipython",
    "version": 3
   },
   "file_extension": ".py",
   "mimetype": "text/x-python",
   "name": "python",
   "nbconvert_exporter": "python",
   "pygments_lexer": "ipython3",
   "version": "3.9.12"
  }
 },
 "nbformat": 4,
 "nbformat_minor": 5
}
